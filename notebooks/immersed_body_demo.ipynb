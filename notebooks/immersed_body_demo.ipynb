{
  "cells": [
    {
      "cell_type": "markdown",
      "metadata": {
        "id": "4K4FCNvH8dtm"
      },
      "source": [
        "# JAX-CFD Immersed Body Demo\n",
        "\n",
        "This demonstration shows how to use JAX-CFD to simulate 2d flow between parallel no-slip walls, with a no-slip immersed body in the center of the domain"
      ]
    },
    {
      "cell_type": "code",
      "execution_count": null,
      "metadata": {
        "executionInfo": {
          "elapsed": 5628,
          "status": "ok",
          "timestamp": 1655317705710,
          "user": {
            "displayName": "",
            "userId": ""
          },
          "user_tz": 420
        },
        "id": "n2J40uBCo9By"
      },
      "outputs": [],
      "source": [
        "import jax\n",
        "import jax.numpy as jnp\n",
        "import matplotlib.pyplot as plt \n",
        "import numpy as np\n",
        "import seaborn\n",
        "import jax_cfd.base as cfd\n",
        "import xarray\n"
      ]
    },
    {
      "cell_type": "code",
      "execution_count": null,
      "metadata": {
        "executionInfo": {
          "elapsed": 5028,
          "status": "ok",
          "timestamp": 1655317714655,
          "user": {
            "displayName": "",
            "userId": ""
          },
          "user_tz": 420
        },
        "id": "KcJcpDavpAoi"
      },
      "outputs": [],
      "source": [
        "from jax_cfd.base.boundaries import channel_flow_with_simple_immersed_body_boundary_conditions\n",
        "\n",
        "size = (512, 128)\n",
        "domain = ((0, 8), (0, 2))\n",
        "density = 1.\n",
        "viscosity = 1e-3  # kinematic viscosity\n",
        "pressure_gradient = 2e-3  # uniform dP/dx\n",
        "\n",
        "# Define the physical dimensions of the simulation.\n",
        "grid = cfd.grids.Grid(size, domain=domain)\n",
        "\n",
        "# Use the new helper that returns a single ConstantBoundaryConditions\n",
        "velocity_bc = (\n",
        "    channel_flow_with_simple_immersed_body_boundary_conditions(grid, shape='circle', shape_size=0.25, bc_value=0.0),\n",
        "    channel_flow_with_simple_immersed_body_boundary_conditions(grid, shape='circle', shape_size=0.25, bc_value=0.0),\n",
        ")\n",
        "\n",
        "# Specify zero velocity initial conditions\n",
        "vx_fn = lambda x, y: jnp.zeros_like(x + y)\n",
        "vy_fn = lambda x, y: jnp.zeros_like(x + y)\n",
        "\n",
        "v0 = cfd.initial_conditions.initial_velocity_field(\n",
        "    velocity_fns=(vx_fn, vy_fn),\n",
        "    grid=grid,\n",
        "    velocity_bc=velocity_bc,\n",
        "    pressure_solve=cfd.pressure.solve_fast_diag_channel_flow,\n",
        "    iterations=5\n",
        ")\n",
        "\n",
        "# Confirm that the divergence of v0 is zero\n",
        "# div = cfd.finite_differences.divergence(v0)\n",
        "# np.testing.assert_allclose(div.data, 0)\n",
        "\n",
        "# Specify a fixed time step based on the convection and diffusion scales\n",
        "max_velocity = 1  # value selected from known equilibrium profile\n",
        "cfl_safety_factor = 0.5\n",
        "\n",
        "dt = cfd.equations.stable_time_step(\n",
        "    max_velocity, cfl_safety_factor, viscosity, grid\n",
        ")\n"
      ]
    },
    {
      "cell_type": "code",
      "execution_count": null,
      "metadata": {
        "executionInfo": {
          "elapsed": 2,
          "status": "ok",
          "timestamp": 1655317720089,
          "user": {
            "displayName": "",
            "userId": ""
          },
          "user_tz": 420
        },
        "id": "oZokhSc6VMKv"
      },
      "outputs": [],
      "source": [
        "# Define a linear force due to the uniform pressure gradient\n",
        "def pressure_gradient_forcing(pressure_gradient: float):\n",
        "  \n",
        "  def forcing(v):\n",
        "    force_vector = (pressure_gradient, 0)\n",
        "    return tuple(cfd.grids.GridArray(f * jnp.ones_like(u.data), u.offset, u.grid)\n",
        "                 for f, u in zip(force_vector, v))\n",
        "  \n",
        "  return forcing"
      ]
    },
    {
      "cell_type": "code",
      "execution_count": null,
      "metadata": {
        "executionInfo": {
          "elapsed": 12362,
          "status": "ok",
          "timestamp": 1655317733789,
          "user": {
            "displayName": "",
            "userId": ""
          },
          "user_tz": 420
        },
        "id": "_5YttC-TVxk1",
        "outputId": "b4e346c5-365c-48fc-e946-5957872f9ea1"
      },
      "outputs": [],
      "source": [
        "# time steps per output\n",
        "inner_steps = 1_000\n",
        "\n",
        "# number of outputs\n",
        "outer_steps = 36\n",
        "\n",
        "# TODO(pnorgaard): Fix Van-Leer limiters for Dirichlet velocity BC \n",
        "def convect(v):\n",
        "  return tuple(\n",
        "      cfd.advection.advect_van_leer(u, v, dt) for u in v)\n",
        "  \n",
        "# Define a step function and use it to compute a trajectory.\n",
        "step_fn = cfd.funcutils.repeated(\n",
        "    cfd.equations.semi_implicit_navier_stokes(\n",
        "        density=density,\n",
        "        viscosity=viscosity,\n",
        "        dt=dt,\n",
        "        grid=grid,\n",
        "        convect=convect,\n",
        "        pressure_solve=cfd.pressure.solve_fast_diag_channel_flow,\n",
        "        forcing=pressure_gradient_forcing(pressure_gradient),\n",
        "        ),\n",
        "    steps=inner_steps)\n",
        "rollout_fn = jax.jit(cfd.funcutils.trajectory(\n",
        "    step_fn, outer_steps, start_with_input=True))\n",
        "\n",
        "%time _, trajectory = jax.device_get(rollout_fn(v0))"
      ]
    },
    {
      "cell_type": "code",
      "execution_count": null,
      "metadata": {
        "colab": {
          "height": 573
        },
        "executionInfo": {
          "elapsed": 1812,
          "status": "ok",
          "timestamp": 1655317762576,
          "user": {
            "displayName": "",
            "userId": ""
          },
          "user_tz": 420
        },
        "id": "htvk6BN2XB-H",
        "outputId": "6c383e03-538f-491d-d772-ca1d761b1e8f"
      },
      "outputs": [],
      "source": [
        "# load into xarray for visualization and analysis\n",
        "gif_frames_to_plot_amount_ratio = 3\n",
        "plotting_steps = outer_steps // gif_frames_to_plot_amount_ratio\n",
        "ds = xarray.Dataset(\n",
        "    {\n",
        "        'u': (('time', 'x', 'y'), trajectory[0].data[::gif_frames_to_plot_amount_ratio, :, :]),\n",
        "        'v': (('time', 'x', 'y'), trajectory[1].data[::gif_frames_to_plot_amount_ratio, :, :]),\n",
        "    },\n",
        "    coords={\n",
        "        'x': grid.axes()[0],\n",
        "        'y': grid.axes()[1],\n",
        "        'time': dt * inner_steps * np.arange(1, plotting_steps + 1)\n",
        "    } \n",
        ")\n",
        "\n",
        "# Plot the x-velocity\n",
        "ds.u.plot.imshow(\n",
        "    x='x', y='y', col='time', cmap=seaborn.cm.icefire, robust=True, col_wrap=4, aspect=2);"
      ]
    },
    {
      "cell_type": "code",
      "execution_count": null,
      "metadata": {
        "colab": {
          "height": 295
        },
        "executionInfo": {
          "elapsed": 392,
          "status": "ok",
          "timestamp": 1655317767581,
          "user": {
            "displayName": "",
            "userId": ""
          },
          "user_tz": 420
        },
        "id": "8V5D8pXRV-8Y",
        "outputId": "1dca792a-b2ba-4ddb-9835-2abe11b185ea"
      },
      "outputs": [],
      "source": [
        "def vx_at_x_upper_boundary(ds):\n",
        "  return ds.u.isel(x=-1)  # slice operator\n",
        "\n",
        "p = ds.pipe(vx_at_x_upper_boundary).plot(hue='time')"
      ]
    },
    {
      "cell_type": "code",
      "execution_count": null,
      "metadata": {
        "id": "kS4FNx0cPiVA"
      },
      "outputs": [],
      "source": [
        "from jax_cfd.data import visualization\n",
        "trajectory = ds.u.values  # Convert xarray DataArray to numpy array\n",
        "images = visualization.trajectory_to_images(trajectory, rotation_angle=90)\n",
        "visualization.save_movie(images, 'output_flow_movie.gif', duration=150., loop=12)"
      ]
    }
  ],
  "metadata": {
    "colab": {
      "collapsed_sections": [],
      "last_runtime": {
        "build_target": "//learning/deepmind/public/tools/ml_python:ml_notebook",
        "kind": "private"
      },
      "name": "JAX-CFD channel flow demo.ipynb",
      "provenance": [
        {
          "file_id": "/piper/depot/google3/research/simulation/whirl/cfd/notebooks/whirl_demo.ipynb",
          "timestamp": 1594817389794
        },
        {
          "file_id": "1YsLs93M4TVtYHOOMilpryHqr1xV2N7Vx",
          "timestamp": 1591818482026
        },
        {
          "file_id": "/piper/depot/google3/research/simulation/whirl/cfd/notebooks/whirl_demo.ipynb",
          "timestamp": 1591811585084
        },
        {
          "file_id": "1E_FfLTw46OmO9elqraoSSlYJW9r1Gsav",
          "timestamp": 1584980552314
        }
      ]
    },
    "kernelspec": {
      "display_name": "pycfd",
      "language": "python",
      "name": "python3"
    },
    "language_info": {
      "codemirror_mode": {
        "name": "ipython",
        "version": 3
      },
      "file_extension": ".py",
      "mimetype": "text/x-python",
      "name": "python",
      "nbconvert_exporter": "python",
      "pygments_lexer": "ipython3",
      "version": "3.12.9"
    }
  },
  "nbformat": 4,
  "nbformat_minor": 0
}
